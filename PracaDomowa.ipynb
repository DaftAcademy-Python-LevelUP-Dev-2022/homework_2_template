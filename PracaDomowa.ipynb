{
 "cells": [
  {
   "cell_type": "markdown",
   "id": "25156e4d",
   "metadata": {
    "pycharm": {
     "name": "#%% md\n"
    }
   },
   "source": [
    "Głównym celem pierwszej pracy domowej jest opublikowanie w Internecie naszej aplikacji napisanej w Pythonie. \n",
    "Pozwoli to nam w dalszych etapach kursu na skupienie się na innych zagadnieniach związanych z web developmentem \n",
    "w języku Python. Podczas wykładu przekazaliśmy wskazówki jak zrobić deploy aplikacji na Heroku.com. \n",
    "Uznajemy więc ten sposób za preferowany. Ocenimy tylko te prace które będą dostępne publicznie."
   ]
  },
  {
   "cell_type": "markdown",
   "id": "1150d64b",
   "metadata": {
    "pycharm": {
     "name": "#%% md\n"
    }
   },
   "source": [
    "#### UWAGA NR 1"
   ]
  },
  {
   "cell_type": "markdown",
   "id": "7cbb1f08",
   "metadata": {
    "pycharm": {
     "name": "#%% md\n"
    }
   },
   "source": [
    "Praca domowa sprawdzana będzie **AUTOMATYCZNIE** dlatego bardzo ważne jest, żeby wasze aplikacje zwracały dokładnie to o co proszono w poleceniu. Jeżeli aplikacja zwróci np. `Hello Wurld!` albo `hello world!` zamiast `Hello World!`, rozwiązanie nie przejdzie testu."
   ]
  },
  {
   "cell_type": "markdown",
   "id": "68cf2d21",
   "metadata": {
    "pycharm": {
     "name": "#%% md\n"
    }
   },
   "source": [
    "#### UWAGA NR 2"
   ]
  },
  {
   "cell_type": "markdown",
   "id": "caef6720",
   "metadata": {
    "pycharm": {
     "name": "#%% md\n"
    }
   },
   "source": [
    "Jako, że wasze aplikacje są hostowane na zewnętrznym hostingu w zadaniach, gdzie mamy taki szablon:"
   ]
  },
  {
   "cell_type": "code",
   "execution_count": 13,
   "id": "ca4083eb",
   "metadata": {
    "pycharm": {
     "name": "#%%\n"
    }
   },
   "outputs": [],
   "source": [
    "class HerokuApp:\n",
    "    app_url = \"\""
   ]
  },
  {
   "cell_type": "markdown",
   "id": "b57b803e",
   "metadata": {
    "tags": [],
    "pycharm": {
     "name": "#%% md\n"
    }
   },
   "source": [
    "Podajemy tylko adres url aplikacji pomiędzy cudzysłowy."
   ]
  },
  {
   "cell_type": "markdown",
   "id": "6ee71682",
   "metadata": {
    "pycharm": {
     "name": "#%% md\n"
    }
   },
   "source": [
    "### Zadanie 2.1"
   ]
  }
 ],
 "metadata": {
  "kernelspec": {
   "display_name": "Python 3 (ipykernel)",
   "language": "python",
   "name": "python3"
  },
  "language_info": {
   "codemirror_mode": {
    "name": "ipython",
    "version": 3
   },
   "file_extension": ".py",
   "mimetype": "text/x-python",
   "name": "python",
   "nbconvert_exporter": "python",
   "pygments_lexer": "ipython3",
   "version": "3.9.6"
  }
 },
 "nbformat": 4,
 "nbformat_minor": 5
}